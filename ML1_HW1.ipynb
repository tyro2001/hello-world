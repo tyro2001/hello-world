{
  "nbformat": 4,
  "nbformat_minor": 0,
  "metadata": {
    "colab": {
      "name": "ML1.HW1.ipynb",
      "provenance": [],
      "authorship_tag": "ABX9TyMrJNYP+kHbMMEuDYiEKdU/",
      "include_colab_link": true
    },
    "kernelspec": {
      "name": "python3",
      "display_name": "Python 3"
    },
    "language_info": {
      "name": "python"
    }
  },
  "cells": [
    {
      "cell_type": "markdown",
      "metadata": {
        "id": "view-in-github",
        "colab_type": "text"
      },
      "source": [
        "<a href=\"https://colab.research.google.com/github/tyro2001/hello-world/blob/master/ML1_HW1.ipynb\" target=\"_parent\"><img src=\"https://colab.research.google.com/assets/colab-badge.svg\" alt=\"Open In Colab\"/></a>"
      ]
    },
    {
      "cell_type": "code",
      "metadata": {
        "id": "StRo2aHptDqM"
      },
      "source": [
        "import math\n",
        "import numpy as np\n",
        "import scipy.stats as ss"
      ],
      "execution_count": 1,
      "outputs": []
    },
    {
      "cell_type": "markdown",
      "metadata": {
        "id": "G8G13hZQf-8q"
      },
      "source": [
        "**Problem 1**"
      ]
    },
    {
      "cell_type": "code",
      "metadata": {
        "colab": {
          "base_uri": "https://localhost:8080/"
        },
        "id": "hWyqEXkutI57",
        "outputId": "8eae364f-13f4-4746-d979-c95c304bcd64"
      },
      "source": [
        "NUM_DRAWS = 1_000_000\n",
        "\n",
        "draws = ss.expon.rvs(size=NUM_DRAWS)\n",
        "results = {'MSE': dict(), \"MAE\" : dict()}\n",
        "estimators = {'Mean  ': 1.0, 'Median': math.log(2)}\n",
        "\n",
        "for name, y_hat in estimators.items():\n",
        "    residuals = draws - y_hat\n",
        "    rss = np.sum(np.power(residuals, 2))\n",
        "    rsa = np.sum(np.abs(residuals))\n",
        "    results['MSE'][name] = rss / NUM_DRAWS\n",
        "    results['MAE'][name] = rsa / NUM_DRAWS\n",
        "\n",
        "for measure in results:\n",
        "    for name, result in results[measure].items():\n",
        "        print(measure, name, result)\n",
        "    print()\n",
        "\n",
        "\n"
      ],
      "execution_count": 2,
      "outputs": [
        {
          "output_type": "stream",
          "name": "stdout",
          "text": [
            "MSE Mean   1.0018393582898109\n",
            "MSE Median 1.0958504205323436\n",
            "\n",
            "MAE Mean   0.7356608484996945\n",
            "MAE Median 0.6927683839800061\n",
            "\n"
          ]
        }
      ]
    },
    {
      "cell_type": "markdown",
      "metadata": {
        "id": "UD9j1EjltbhY"
      },
      "source": [
        "The mean works better for mean squared error (MSE), but the median is better for mean absolute error (MAE). "
      ]
    },
    {
      "cell_type": "markdown",
      "metadata": {
        "id": "SbePsszygCaa"
      },
      "source": [
        "**Problem 2**"
      ]
    },
    {
      "cell_type": "code",
      "metadata": {
        "id": "zFfLNsjtgYN9"
      },
      "source": [
        "def loss(a, b, z):\n",
        "    assert(a > 0)\n",
        "    assert(b > 0)\n",
        "    scaled_err = a * (y - y_hat)\n",
        "    return b * (math.exp(a*z) - a*z - 1)\n",
        "\n"
      ],
      "execution_count": null,
      "outputs": []
    }
  ]
}