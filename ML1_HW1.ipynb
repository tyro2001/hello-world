{
  "nbformat": 4,
  "nbformat_minor": 0,
  "metadata": {
    "colab": {
      "name": "ML1.HW1.ipynb",
      "provenance": [],
      "authorship_tag": "ABX9TyMHkwTO01qi/ub/Aiu8bQXk",
      "include_colab_link": true
    },
    "kernelspec": {
      "name": "python3",
      "display_name": "Python 3"
    },
    "language_info": {
      "name": "python"
    }
  },
  "cells": [
    {
      "cell_type": "markdown",
      "metadata": {
        "id": "view-in-github",
        "colab_type": "text"
      },
      "source": [
        "<a href=\"https://colab.research.google.com/github/tyro2001/hello-world/blob/master/ML1_HW1.ipynb\" target=\"_parent\"><img src=\"https://colab.research.google.com/assets/colab-badge.svg\" alt=\"Open In Colab\"/></a>"
      ]
    },
    {
      "cell_type": "code",
      "metadata": {
        "id": "StRo2aHptDqM"
      },
      "source": [
        "import math\n",
        "import numpy as np\n",
        "import scipy.stats as ss\n",
        "import matplotlib.pyplot as plt"
      ],
      "execution_count": 1,
      "outputs": []
    },
    {
      "cell_type": "markdown",
      "metadata": {
        "id": "G8G13hZQf-8q"
      },
      "source": [
        "**Problem 1**"
      ]
    },
    {
      "cell_type": "code",
      "metadata": {
        "colab": {
          "base_uri": "https://localhost:8080/"
        },
        "id": "hWyqEXkutI57",
        "outputId": "87ac3201-b5b5-4a3a-b37c-f73ad9cfdc89"
      },
      "source": [
        "NUM_DRAWS = 1_000\n",
        "\n",
        "draws = ss.expon.rvs(size=NUM_DRAWS)\n",
        "results = {'MSE': dict(), \"MAE\" : dict()}\n",
        "estimators = {'Mean  ': 1.0, 'Median': math.log(2)}\n",
        "\n",
        "for name, y_hat in estimators.items():\n",
        "    residuals = draws - y_hat\n",
        "    rss = np.sum(np.power(residuals, 2))\n",
        "    rsa = np.sum(np.abs(residuals))\n",
        "    results['MSE'][name] = rss / NUM_DRAWS\n",
        "    results['MAE'][name] = rsa / NUM_DRAWS\n",
        "\n",
        "for measure in results:\n",
        "    for name, result in results[measure].items():\n",
        "        print(measure, name, result)\n",
        "    print()\n",
        "\n",
        "\n"
      ],
      "execution_count": 2,
      "outputs": [
        {
          "output_type": "stream",
          "name": "stdout",
          "text": [
            "MSE Mean   1.0298061114411867\n",
            "MSE Median 1.125904111300224\n",
            "\n",
            "MAE Mean   0.731708791419112\n",
            "MAE Median 0.6860906682734306\n",
            "\n"
          ]
        }
      ]
    },
    {
      "cell_type": "markdown",
      "metadata": {
        "id": "UD9j1EjltbhY"
      },
      "source": [
        "The mean works better for mean squared error (MSE), but the median is better for mean absolute error (MAE). "
      ]
    },
    {
      "cell_type": "markdown",
      "metadata": {
        "id": "SbePsszygCaa"
      },
      "source": [
        "**Problem 2**"
      ]
    },
    {
      "cell_type": "code",
      "metadata": {
        "colab": {
          "base_uri": "https://localhost:8080/",
          "height": 265
        },
        "id": "zFfLNsjtgYN9",
        "outputId": "1cb38ccd-f206-4bc9-e483-18816aa9e960"
      },
      "source": [
        "def loss(a, b, z):\n",
        "    assert(a > 0)\n",
        "    assert(b > 0)\n",
        "    return b * (math.exp(a*z) - a*z - 1)\n",
        "\n",
        "def part_a():\n",
        "    a = 1.1  ## given\n",
        "    b = 2.0  ## given\n",
        "    step = .1\n",
        "    loss_vec = list()\n",
        "    z_vec = np.arange(-2, 2 + step, step)\n",
        "    for z in z_vec:\n",
        "        loss_vec.append(loss(a, b, z))\n",
        "\n",
        "    plt.scatter(z_vec, loss_vec)\n",
        "    plt.show()\n",
        "\n",
        "part_a()"
      ],
      "execution_count": 3,
      "outputs": [
        {
          "output_type": "display_data",
          "data": {
            "image/png": "[encoded data removed]",
            "text/plain": [
              "<Figure size 432x288 with 1 Axes>"
            ]
          },
          "metadata": {
            "needs_background": "light"
          }
        }
      ]
    },
    {
      "cell_type": "markdown",
      "metadata": {
        "id": "KsB9tVKQmVV9"
      },
      "source": [
        "This loss function penalizes positive errors more than negative ones."
      ]
    },
    {
      "cell_type": "markdown",
      "metadata": {
        "id": "3c2Wbk9RsXBF"
      },
      "source": [
        "Part (b)\n",
        "\n",
        "\n",
        "Use the iterated condintioning from class:\n",
        "\n",
        "\n",
        "$E \\left[ E \\left[b\\left(e^{a(Y-\\mu(x))} - a(Y-\\mu(x)) - 1\\right)| X=x \\right] \\right]$\n",
        "\n",
        "\n",
        "Since we are going to minimize to find $\\mu(x)$ and $b>0$, I am just going to remove it.  I will also distribute the $a$\n",
        "\n",
        "\n",
        "$E \\left[ E \\left[e^{aY} e^{-a\\mu(x)} - aY + a\\mu(x) - 1| X=x \\right] \\right]$\n",
        "\n",
        "\n",
        "Now let's distribute the inner expectation:\n",
        "\n",
        "$E \\left[e^{-a\\mu(x)} E \\left[e^{aY}| X = x \\right]  - a E \\left[ Y|X=x \\right] + a\\mu(x) - 1 \\right ]$\n",
        "\n",
        "\n",
        "Remove the terms that don't rely on $\\mu(x)\\$:\n",
        "\n",
        "$E \\left[e^{-a\\mu(x)} E \\left[e^{aY}| X = x \\right]  + a\\mu(x)\\right ]$\n",
        "\n",
        "\n",
        "Let's let $ c = E \\left[e^{aY}| X = x \\right] $ and $ z = \\mu(x)$ and minimize the following:\n",
        "\n",
        "$f(z) = c e^{-az} + az$\n",
        "\n",
        "\n",
        "$f^{'}(z) = -ca e^{-az} + a$\n",
        "\n",
        "$f^{''}(z) = ca^2 e^{-az} > 0$\n",
        "\n",
        "\n",
        "Set the first derivative equal to zero to get:\n",
        "\n",
        "$ca e^{-az} = a => e^{-az} = c^{-1} => -az = -\\log{c} => z = \\frac{\\log{c}}{a}$\n",
        "\n",
        "\n",
        "Rewrite in the original terms:\n",
        "\n",
        "$\\mu(x) = \\frac{\\log{(E \\left[e^{aY}| X = x \\right])}}{a}$"
      ]
    },
    {
      "cell_type": "markdown",
      "metadata": {
        "id": "WCBtDQCk5Efq"
      },
      "source": [
        "Part (c)\n",
        "\n",
        "Using the equation from the moment generating function in the problem we have:\n",
        "\n",
        "\n",
        "$ E \\left[e^{aY}| X = x \\right] = e^{\\beta x a+ \\frac{1}{2}\\sigma^2 a^2}$\n",
        "\n",
        "Using the equation from part (b) we have:\n",
        "\n",
        "$\\mu(x) = \\frac{\\beta x a+ \\frac{1}{2}\\sigma^2 a^2}{a} = \\beta x + \\frac{1}{2}\\sigma^2 a$"
      ]
    },
    {
      "cell_type": "markdown",
      "metadata": {
        "id": "B7FgpKiw_NT7"
      },
      "source": [
        "Part (d)\n",
        "\n",
        "I made the following change to asymm_loss.py:"
      ]
    },
    {
      "cell_type": "code",
      "metadata": {
        "id": "ICIVMrlzj0hd"
      },
      "source": [
        "def f_yours(x):\n",
        "    return beta*x + .5 * sigma**2 * a"
      ],
      "execution_count": 4,
      "outputs": []
    },
    {
      "cell_type": "markdown",
      "metadata": {
        "id": "TpDOWlFr_e-s"
      },
      "source": [
        "and got the following results:\n",
        "\n",
        "Average loss of the conditional expectation: 15.69  \n",
        "Average loss of your method: 4.41\n",
        "\n",
        "I have a lower average loss because conditional mean is optimal for a squared error loss function.  Mine is the optimal one for the loss function described in this exercise. \n",
        "\n"
      ]
    },
    {
      "cell_type": "markdown",
      "metadata": {
        "id": "c8T8FO8CBdYo"
      },
      "source": [
        "**Problem 3**"
      ]
    },
    {
      "cell_type": "code",
      "metadata": {
        "colab": {
          "base_uri": "https://localhost:8080/",
          "height": 265
        },
        "id": "qIgwP9IJ_dlc",
        "outputId": "a705bf9c-0c5e-4262-8862-e60b70868cc6"
      },
      "source": [
        "import statsmodels.api as sm\n",
        "\n",
        "MAX_P = 80\n",
        "NUM_ITERS = 100\n",
        "NUM_POINTS = 100\n",
        "\n",
        "## using beta on epsilon is a little\n",
        "## bit of an abuse of common naming.\n",
        "## just makes it eaiser.  \n",
        "true_beta = np.zeros(MAX_P+1)\n",
        "true_beta[0] = 1.0  ## epsilon\n",
        "true_beta[1] = 4.0  ## X_1\n",
        "\n",
        "mse_sums = np.zeros(MAX_P+1)\n",
        "for i in range(NUM_ITERS):\n",
        "    ## column zero will be the epsilons initially\n",
        "    train_data = ss.norm.rvs(size = [NUM_POINTS, MAX_P+1])\n",
        "    test_data  = ss.norm.rvs(size = [NUM_POINTS, MAX_P+1])\n",
        "    train_y = train_data @ true_beta\n",
        "    test_y  = test_data  @ true_beta\n",
        "\n",
        "    ## now let's make column zero equal to 1.0\n",
        "    train_data[:, 0] = 1.0\n",
        "    test_data[:, 0] = 1.0\n",
        "\n",
        "    for n in range(2, MAX_P+1):\n",
        "        mod = sm.OLS(train_y, train_data[:, 0:n])\n",
        "        res = mod.fit()\n",
        "        test_y_hat = test_data[:, 0:n] @ res.params\n",
        "        mse = np.mean(np.power(test_y - test_y_hat, 2))\n",
        "        mse_sums[n] += mse\n",
        "\n",
        "mse_avg = mse_sums / NUM_ITERS\n",
        "plt.scatter(range(2, MAX_P+1), mse_avg[2:])\n",
        "plt.show()\n"
      ],
      "execution_count": 10,
      "outputs": [
        {
          "output_type": "display_data",
          "data": {
            "image/png": "[encoded data removed]",
            "text/plain": [
              "<Figure size 432x288 with 1 Axes>"
            ]
          },
          "metadata": {
            "needs_background": "light"
          }
        }
      ]
    },
    {
      "cell_type": "code",
      "metadata": {
        "id": "-f_eZplCCc0I"
      },
      "source": [
        ""
      ],
      "execution_count": 5,
      "outputs": []
    }
  ]
}