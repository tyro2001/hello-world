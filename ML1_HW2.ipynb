{
  "nbformat": 4,
  "nbformat_minor": 0,
  "metadata": {
    "colab": {
      "name": "ML1.HW2.ipynb",
      "provenance": [],
      "authorship_tag": "ABX9TyMb4or8DthbFUmOnt8Wd44/",
      "include_colab_link": true
    },
    "kernelspec": {
      "name": "python3",
      "display_name": "Python 3"
    },
    "language_info": {
      "name": "python"
    }
  },
  "cells": [
    {
      "cell_type": "markdown",
      "metadata": {
        "id": "view-in-github",
        "colab_type": "text"
      },
      "source": [
        "<a href=\"https://colab.research.google.com/github/tyro2001/hello-world/blob/master/ML1_HW2.ipynb\" target=\"_parent\"><img src=\"https://colab.research.google.com/assets/colab-badge.svg\" alt=\"Open In Colab\"/></a>"
      ]
    },
    {
      "cell_type": "code",
      "metadata": {
        "id": "-Ki5SqN7lVOh"
      },
      "source": [
        "import numpy as np\n",
        "import scipy.stats as ss\n",
        "import matplotlib.pyplot as plt"
      ],
      "execution_count": 1,
      "outputs": []
    },
    {
      "cell_type": "markdown",
      "metadata": {
        "id": "iLJi0fS2lc-Z"
      },
      "source": [
        "**Problem 1**"
      ]
    },
    {
      "cell_type": "code",
      "metadata": {
        "colab": {
          "base_uri": "https://localhost:8080/",
          "height": 282
        },
        "id": "YfeU6M8WlZM-",
        "outputId": "6caac469-146e-423f-f452-787176af6366"
      },
      "source": [
        "def part_a():\n",
        "    num_ps = 100\n",
        "    num_obs = 100\n",
        "    Y = ss.norm.rvs(size=[num_obs, num_ps])\n",
        "    y_1 = Y[:,1]\n",
        "    plt.hist(y_1)\n",
        "    plt.show()\n",
        "    l = y_1 - 1.96\n",
        "    u = y_1 + 1.96\n",
        "    print(\"Frac inside CI:\", np.sum((l < 0) & (0 < u) ) / num_obs)\n",
        "\n",
        "part_a()"
      ],
      "execution_count": 2,
      "outputs": [
        {
          "output_type": "display_data",
          "data": {
            "image/png": "[encoded data removed]",
            "text/plain": [
              "<Figure size 432x288 with 1 Axes>"
            ]
          },
          "metadata": {
            "needs_background": "light"
          }
        },
        {
          "output_type": "stream",
          "name": "stdout",
          "text": [
            "Frac inside CI: 0.95\n"
          ]
        }
      ]
    },
    {
      "cell_type": "code",
      "metadata": {
        "colab": {
          "base_uri": "https://localhost:8080/",
          "height": 282
        },
        "id": "0rqxv8aFmYxc",
        "outputId": "d5013693-3780-418e-d255-8448ae1f8abf"
      },
      "source": [
        "def part_b():\n",
        "    num_ps = 100\n",
        "    num_obs = 100\n",
        "    Y = ss.norm.rvs(size=[num_obs, num_ps])\n",
        "    y_max = np.max(Y, axis = 1)\n",
        "    plt.hist(y_max)\n",
        "    plt.show()\n",
        "    l = y_max - 1.96\n",
        "    u = y_max + 1.96\n",
        "    print(\"Frac inside CI:\", np.sum((l < 0) & (0 < u) ) / num_obs)\n",
        "\n",
        "part_b()"
      ],
      "execution_count": 3,
      "outputs": [
        {
          "output_type": "display_data",
          "data": {
            "image/png": "[encoded data removed]",
            "text/plain": [
              "<Figure size 432x288 with 1 Axes>"
            ]
          },
          "metadata": {
            "needs_background": "light"
          }
        },
        {
          "output_type": "stream",
          "name": "stdout",
          "text": [
            "Frac inside CI: 0.11\n"
          ]
        }
      ]
    },
    {
      "cell_type": "markdown",
      "metadata": {
        "id": "rlx1wVgtwKxS"
      },
      "source": [
        "**Problem 2**"
      ]
    },
    {
      "cell_type": "code",
      "metadata": {
        "colab": {
          "base_uri": "https://localhost:8080/",
          "height": 279
        },
        "id": "BtoteUv0pwyv",
        "outputId": "f34aecaf-663b-4f01-edab-9003e993c1fe"
      },
      "source": [
        "import math\n",
        "import statsmodels.api as sm\n",
        "import sklearn.linear_model as sklm\n",
        "\n",
        "MAX_P = 80\n",
        "NUM_ITERS = 100\n",
        "NUM_POINTS = 100\n",
        "\n",
        "true_beta1 = 4.0  ## X_1\n",
        "\n",
        "ols_mse_sums = np.zeros(MAX_P)\n",
        "las_mse_sums = np.zeros(MAX_P)\n",
        "for i in range(NUM_ITERS):\n",
        "    train_epsilon = ss.norm.rvs(size=NUM_POINTS)\n",
        "    test_epsilon = ss.norm.rvs(size=NUM_POINTS)\n",
        "    train_data = ss.norm.rvs(size = [NUM_POINTS, MAX_P])\n",
        "    test_data  = ss.norm.rvs(size = [NUM_POINTS, MAX_P])\n",
        "    train_y = true_beta1 * train_data[:,1]+ train_epsilon\n",
        "    test_y  = true_beta1 * test_data[:,1] + test_epsilon\n",
        "\n",
        "    for n in range(2, MAX_P):\n",
        "        ols_train_data = sm.add_constant(train_data[:,0:n])\n",
        "        ols_test_data = sm.add_constant(test_data[:,0:n])\n",
        "        ols_mod = sm.OLS(train_y, ols_train_data)\n",
        "        ols_res = ols_mod.fit()\n",
        "        ols_test_y_hat = ols_test_data @ ols_res.params\n",
        "        ols_mse = np.mean(np.power(test_y - ols_test_y_hat, 2))\n",
        "        ols_mse_sums[n] += ols_mse\n",
        "\n",
        "        lam = math.sqrt(math.log(n)/(50*NUM_POINTS))\n",
        "        las_mod = sklm.Lasso(alpha=lam, normalize=True, fit_intercept=True)\n",
        "        las_mod.fit(train_data[:,0:n], train_y)\n",
        "        las_test_y_hat = las_mod.predict(test_data[:,0:n])\n",
        "        las_mse = np.mean(np.power(test_y - las_test_y_hat, 2))\n",
        "        las_mse_sums[n] += las_mse\n",
        "\n",
        "ols_mse_avg = ols_mse_sums / NUM_ITERS\n",
        "las_mse_avg = las_mse_sums / NUM_ITERS\n",
        "plt.scatter(range(2, MAX_P), ols_mse_avg[2:], label=\"OLS\")\n",
        "plt.scatter(range(2, MAX_P), las_mse_avg[2:], label=\"Lasso\")\n",
        "plt.xlabel('Number of predictors')\n",
        "plt.ylabel('Average MSE')\n",
        "plt.legend(loc='upper left')\n",
        "plt.show()\n"
      ],
      "execution_count": 11,
      "outputs": [
        {
          "output_type": "display_data",
          "data": {
            "image/png": "[encoded data removed]",
            "text/plain": [
              "<Figure size 432x288 with 1 Axes>"
            ]
          },
          "metadata": {
            "needs_background": "light"
          }
        }
      ]
    },
    {
      "cell_type": "markdown",
      "metadata": {
        "id": "2-3V7wUR6RTd"
      },
      "source": [
        "Commentary:  As expected, Lasso's \"variable selection\" property kept the error from exploding and, as a result, is a much better method than OLS for this problem. "
      ]
    },
    {
      "cell_type": "markdown",
      "metadata": {
        "id": "fOZqQB2VqDTP"
      },
      "source": [
        "**Problem 3**\n",
        "\n",
        "Part (a)\n",
        "\n",
        "We can rewrite $||y-X\\beta||_2^2$ as:\n",
        "\n",
        "$\\sum_{i=1}^n (y_i - X_i\\beta)^2$\n",
        "\n",
        "since $\\tilde{y}_i = y_i$ and $\\tilde{X}_i = X_i$ for $i=1,2,...n$, we can rewrite the above equation as:\n",
        "\n",
        "$\\sum_{i=1}^n (\\tilde{y}_i - \\tilde{X}_i\\beta)^2$\n",
        "\n",
        "similarly we can rewrite $\\lambda ||\\beta||_2^2$ as:\n",
        "\n",
        "$\\sum_{i=1}^p (\\sqrt{\\lambda}\\beta_i)^2$\n",
        "\n",
        "since $\\tilde{y}_i = 0$ for $i>n$, we have:\n",
        "\n",
        "$\\sum_{i=1}^p (\\tilde{y}_{n+i} - \\sqrt{\\lambda}\\beta_i)^2$\n",
        "\n",
        "since $\\tilde{X}_{n+i}\\beta = \\sqrt{\\lambda}\\beta_i$ we have:\n",
        "\n",
        "$\\sum_{i=1}^p (\\tilde{y}_{n+i} - \\tilde{X}_{n+i}\\beta)^2$\n",
        "\n",
        "now combine the two sums for:\n",
        "\n",
        "$\\sum_{i=1}^{n+p} (\\tilde{y}_i - \\tilde{X}_i\\beta)^2$\n",
        "\n",
        "and we have:\n",
        "\n",
        "$$\\widehat{\\beta}^{ridge} = \\arg\\min_{\\beta \\in \\mathbb{R}^p} \\sum_{i=1}^{n+p} (\\tilde{y}_i - \\tilde{X}_i\\beta)^2$$\n",
        "\n",
        "which is precisely what OLS provides when using $\\tilde{Y}$ and $\\tilde{X}$.\n",
        "\n",
        "part (b)\n",
        "\n",
        "Since the columns of $\\sqrt{\\lambda}I$ are linearly indpendent so are the columns of $\\tilde{X}$.  Put another way the rank of $\\tilde{X}$ will always be $p$ beause the rank of $\\sqrt{\\lambda}I$ is $p$.\n",
        "\n",
        "part (c)\n",
        "\n",
        "Using part (a) we have:\n",
        "\n",
        "$\\beta = (\\tilde{X}^T \\tilde{X})^{-1} \\tilde{X}^T \\tilde{Y}$\n",
        "\n",
        "$ \\tilde{X} = \\begin{bmatrix} X \\\\ \\sqrt{\\lambda}I \\end{bmatrix}$\n",
        "\n",
        "$ \\tilde{X}^T = \\begin{bmatrix} X^T && \\sqrt{\\lambda}I \\end{bmatrix}$\n",
        "\n",
        "$ \\tilde{X}^T \\tilde{X} = (X^TX + \\lambda I)$\n",
        "\n",
        "$ \\tilde{Y} = \\begin{bmatrix} Y \\\\ 0 \\end{bmatrix}$\n",
        "\n",
        "$ \\tilde{X}^T \\tilde{Y} = (X^T Y + \\lambda I 0) = X^TY$\n",
        "\n",
        "Putting the two parts together we get:\n",
        "\n",
        "$$\\beta = (X^TX + \\lambda I)^{-1} X^TY$$"
      ]
    },
    {
      "cell_type": "code",
      "metadata": {
        "id": "Zk2n66XsxAxU"
      },
      "source": [
        ""
      ],
      "execution_count": null,
      "outputs": []
    },
    {
      "cell_type": "markdown",
      "metadata": {
        "id": "QFXPKpl95kkD"
      },
      "source": [
        "**Problem 4**\n",
        "\n",
        "Some facts from the problem:\n",
        "\n",
        "1. $X = UDV^T$\n",
        "\n",
        "2. $X^T = VDU^T$\n",
        "\n",
        "3. $U^TU = V^TV = VV^T = I$\n",
        "\n",
        "4. $(VDV^T)^{-1} = VD^{-1}V^T$\n",
        "\n",
        "5. $(AB)^{-1} = B^{-1}A^{-1}$ for invertible matrices A and B of the proper shape\n",
        "\n",
        "Part (a)\n",
        "\n",
        "$\\widehat{Y} = X(X^TX)^{-1}X^TY$\n",
        "\n",
        "using (1) and (2) we have:\n",
        "\n",
        "$UDV^T(VDU^T UDV^T)^{-1} VDU^T Y$\n",
        "\n",
        "Removing $U^TU$:\n",
        "\n",
        "$UDV^T(VDDV^T)^{-1} VDU^T Y$\n",
        "\n",
        "Rewrite the inverse using (4):\n",
        "\n",
        "$UDV^T VD^{-1}D^{-1}V^T VDU^T Y$\n",
        "\n",
        "Remove $V^TV$:\n",
        "\n",
        "$UDD^{-1}D^{-1}DU^T Y$\n",
        "\n",
        "Cancel the terms with D:\n",
        "\n",
        "$UU^T Y$\n",
        "\n",
        "Part (b)\n",
        "\n",
        "$\\widehat{Y}_{ridge} = X(X^TX + \\lambda I)^{-1} X^TY$\n",
        "\n",
        "using (1) and (2) we have:\n",
        "\n",
        "$UDV^T(VDU^T UDV^T +\\lambda I)^{-1} VDU^T Y$\n",
        "\n",
        "Remove $U^TU$:\n",
        "\n",
        "$UDV^T(VDDV^T +\\lambda I)^{-1} VDU^T Y$\n",
        "\n",
        "Replace $I$ with $VV^T$:\n",
        "\n",
        "$UDV^T(VDDV^T +\\lambda VV^T)^{-1} VDU^T Y$\n",
        "\n",
        "Factor $V^T$:\n",
        "\n",
        "$UDV^T((VDD +\\lambda V)V^T)^{-1} VDU^T Y$\n",
        "\n",
        "Rewrite the inverse using (5):\n",
        "\n",
        "$UDV^T V(VDD +\\lambda V)^{-1} VDU^T Y$\n",
        "\n",
        "Cancel $V^TV$:\n",
        "\n",
        "$UD(VDD +\\lambda V)^{-1} VDU^T Y$\n",
        "\n",
        "Factor the $V$ in the inverse:\n",
        "\n",
        "$UD(V(DD +\\lambda I))^{-1} VDU^T Y$\n",
        "\n",
        "Rewrite the inverse using (5):\n",
        "\n",
        "$UD(DD +\\lambda I)^{-1}V^T VDU^T Y$\n",
        "\n",
        "Cancel $V^TV$:\n",
        "\n",
        "$UD(DD +\\lambda I)^{-1}DU^T Y$\n",
        "\n",
        "Part (c)\n",
        "\n",
        "$DD +\\lambda I$ is a diagonal matrix with entries of $d_{jj}^2 + \\lambda$.  The inverse of this is also diagonal with entries $\\frac{1}{d_{jj}^2 + \\lambda}$.  $D(DD +\\lambda I)^{-1}D$ is also diagonal with entries of $\\frac{d_{jj}^2}{d_{jj}^2 + \\lambda}$. So the scalar you are looking for is:\n",
        "\n",
        "$\\frac{d_{jj}^2}{d_{jj}^2 + \\lambda}$\n",
        "\n",
        "If $\\lambda = 0$, you do get the same answer as linear regression.  If $\\lambda > 0$, then terms with a small $d_j$ are affected more than the terms with a large $d_j$ which has the effect of shrinking directions with large variance which was illustrated in lecture.  "
      ]
    },
    {
      "cell_type": "code",
      "metadata": {
        "id": "ADLklTFbzTkQ"
      },
      "source": [
        ""
      ],
      "execution_count": 5,
      "outputs": []
    }
  ]
}